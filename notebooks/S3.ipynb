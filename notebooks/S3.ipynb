{
 "cells": [
  {
   "cell_type": "markdown",
   "id": "605f01d4-c30d-4bc2-8e3c-3faefaa96ae9",
   "metadata": {},
   "source": [
    "# S3 Example\n",
    "\n",
    "This is a sample notebook on how to access Localstack/S3 using [boto](https://boto3.amazonaws.com/v1/documentation/api/latest/index.html)."
   ]
  },
  {
   "cell_type": "code",
   "execution_count": 1,
   "id": "2072b4fc-530c-408a-b676-cbda79bb795f",
   "metadata": {},
   "outputs": [],
   "source": [
    "import boto3"
   ]
  },
  {
   "cell_type": "code",
   "execution_count": 2,
   "id": "7eaf7f19-27dc-435a-83fc-0bb7cc6416ae",
   "metadata": {},
   "outputs": [],
   "source": [
    "S3_MOCK_ENDPOINT = \"http://localstack:4566\"\n",
    "# Values do not really matter\n",
    "ACCESS_KEY = \"mock\"\n",
    "SECRET_KEY = \"mock\""
   ]
  },
  {
   "cell_type": "code",
   "execution_count": 3,
   "id": "3901df3f-50cc-4455-84e3-84621e49d131",
   "metadata": {},
   "outputs": [],
   "source": [
    "# Create connection to S3\n",
    "s3 = boto3.client(\n",
    "    's3',\n",
    "    region_name=\"eu-central-1\",\n",
    "    endpoint_url=S3_MOCK_ENDPOINT,\n",
    "    aws_access_key_id=ACCESS_KEY,\n",
    "    aws_secret_access_key=SECRET_KEY,\n",
    ")"
   ]
  },
  {
   "cell_type": "code",
   "execution_count": 4,
   "id": "8c025ccf-dbb1-4baa-ad05-b8abeab522f7",
   "metadata": {},
   "outputs": [
    {
     "name": "stdout",
     "output_type": "stream",
     "text": [
      "Existing buckets:\n",
      "  glue-bucket\n"
     ]
    }
   ],
   "source": [
    "response = s3.list_buckets()\n",
    "\n",
    "# Output the bucket names\n",
    "print('Existing buckets:')\n",
    "for bucket in response['Buckets']:\n",
    "    print(f'  {bucket[\"Name\"]}')"
   ]
  }
 ],
 "metadata": {
  "kernelspec": {
   "display_name": "Python 3",
   "language": "python",
   "name": "python3"
  },
  "language_info": {
   "codemirror_mode": {
    "name": "ipython",
    "version": 3
   },
   "file_extension": ".py",
   "mimetype": "text/x-python",
   "name": "python",
   "nbconvert_exporter": "python",
   "pygments_lexer": "ipython3",
   "version": "3.7.10"
  }
 },
 "nbformat": 4,
 "nbformat_minor": 5
}
